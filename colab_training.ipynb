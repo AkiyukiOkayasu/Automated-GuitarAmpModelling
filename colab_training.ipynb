{
  "nbformat": 4,
  "nbformat_minor": 0,
  "metadata": {
    "accelerator": "GPU",
    "colab": {
      "name": "colab_training.ipynb",
      "provenance": [],
      "collapsed_sections": []
    },
    "kernelspec": {
      "display_name": "Python 3",
      "name": "python3"
    },
    "language_info": {
      "name": "python"
    }
  },
  "cells": [
    {
      "cell_type": "code",
      "metadata": {
        "id": "FCRhPNGrBUN8"
      },
      "source": [
        "!git clone https://github.com/GuitarML/Automated-GuitarAmpModelling\n",
        "!git submodule update --init --recursive"
      ],
      "execution_count": null,
      "outputs": []
    },
    {
      "cell_type": "code",
      "metadata": {
        "id": "1RST7hztmHMg"
      },
      "source": [
        "# Upload your input.wav and output.wav, and add your config to the config directory.\n",
        "\n",
        "# Name the .wav files and config file appropriately in the following command\n",
        "!python prep_wav.py input.wav output.wav acoustic1-pre"
      ],
      "execution_count": null,
      "outputs": []
    },
    {
      "cell_type": "markdown",
      "metadata": {
        "id": "K-h0txTeyHJk"
      },
      "source": [
        ""
      ]
    },
    {
      "cell_type": "code",
      "metadata": {
        "id": "1tA0uN4MC_Zx"
      },
      "source": [
        "# Name your config in the following command\n",
        "!python dist_model_recnet.py -l \"RNN3-acoustic1-pre\""
      ],
      "execution_count": null,
      "outputs": []
    },
    {
      "cell_type": "code",
      "metadata": {
        "id": "nwf9Mu8Y1wTq"
      },
      "source": [
        "# Name your config in the following command\n",
        "!python plot.py acoustic1-pre\n"
      ],
      "execution_count": null,
      "outputs": []
    }
  ]
}