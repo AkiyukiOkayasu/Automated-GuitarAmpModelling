{
 "cells": [
  {
   "cell_type": "code",
   "execution_count": null,
   "metadata": {
    "id": "FCRhPNGrBUN8"
   },
   "outputs": [],
   "source": [
    "!git clone https://github.com/GuitarML/Automated-GuitarAmpModelling.git"
   ]
  },
  {
   "cell_type": "code",
   "execution_count": null,
   "metadata": {
    "id": "sH-hUlLahokT"
   },
   "outputs": [],
   "source": [
    "cd Automated-GuitarAmpModelling/\n"
   ]
  },
  {
   "cell_type": "code",
   "execution_count": null,
   "metadata": {
    "id": "qGLvi0yQiJNg"
   },
   "outputs": [],
   "source": [
    "!git submodule update --init --recursive"
   ]
  },
  {
   "cell_type": "code",
   "execution_count": 7,
   "metadata": {
    "id": "1RST7hztmHMg"
   },
   "outputs": [],
   "source": [
    "# Upload your input.wav and output.wav, and add your config to the config directory.\n",
    "\n",
    "# Name the .wav files and config file appropriately in the following command\n",
    "!python prep_wav.py input.wav output.wav acoustic1-pre"
   ]
  },
  {
   "cell_type": "markdown",
   "metadata": {
    "id": "K-h0txTeyHJk"
   },
   "source": []
  },
  {
   "cell_type": "code",
   "execution_count": 2,
   "metadata": {
    "id": "1tA0uN4MC_Zx"
   },
   "outputs": [
    {
     "name": "stdout",
     "output_type": "stream",
     "text": [
      "existing model file found, loading network\n",
      "cuda device available\n",
      "^C\n",
      "Traceback (most recent call last):\n",
      "  File \"/home/micahtseng/Personal/mlamsk/python3Env/pytorchSandbox/Automated-GuitarAmpModelling/dist_model_recnet.py\", line 269, in <module>\n",
      "    main(args)\n",
      "  File \"/home/micahtseng/Personal/mlamsk/python3Env/pytorchSandbox/Automated-GuitarAmpModelling/dist_model_recnet.py\", line 81, in main\n",
      "    network = network.cuda()\n",
      "  File \"/home/micahtseng/Personal/mlamsk/python3Env/pytorchSandbox/lib/python3.9/site-packages/torch/nn/modules/module.py\", line 637, in cuda\n",
      "    return self._apply(lambda t: t.cuda(device))\n",
      "  File \"/home/micahtseng/Personal/mlamsk/python3Env/pytorchSandbox/lib/python3.9/site-packages/torch/nn/modules/module.py\", line 530, in _apply\n",
      "    module._apply(fn)\n",
      "  File \"/home/micahtseng/Personal/mlamsk/python3Env/pytorchSandbox/lib/python3.9/site-packages/torch/nn/modules/rnn.py\", line 182, in _apply\n",
      "    ret = super(RNNBase, self)._apply(fn)\n",
      "  File \"/home/micahtseng/Personal/mlamsk/python3Env/pytorchSandbox/lib/python3.9/site-packages/torch/nn/modules/module.py\", line 552, in _apply\n",
      "    param_applied = fn(param)\n",
      "  File \"/home/micahtseng/Personal/mlamsk/python3Env/pytorchSandbox/lib/python3.9/site-packages/torch/nn/modules/module.py\", line 637, in <lambda>\n",
      "    return self._apply(lambda t: t.cuda(device))\n",
      "KeyboardInterrupt\n"
     ]
    }
   ],
   "source": [
    "# Name your config in the following command\n",
    "# The model will be located in Results/\n",
    "!python dist_model_recnet.py -l \"RNN3-acoustic1-pre\""
   ]
  },
  {
   "cell_type": "code",
   "execution_count": null,
   "metadata": {
    "id": "nwf9Mu8Y1wTq"
   },
   "outputs": [],
   "source": [
    "# Name your config in the following command\n",
    "# The plots will be generated in the Results/modelName/ directory\n",
    "!python plot.py acoustic1-pre\n"
   ]
  }
 ],
 "metadata": {
  "accelerator": "GPU",
  "colab": {
   "collapsed_sections": [],
   "name": "colab_training.ipynb",
   "provenance": []
  },
  "kernelspec": {
   "display_name": "Python 3 (ipykernel)",
   "language": "python",
   "name": "python3"
  },
  "language_info": {
   "codemirror_mode": {
    "name": "ipython",
    "version": 3
   },
   "file_extension": ".py",
   "mimetype": "text/x-python",
   "name": "python",
   "nbconvert_exporter": "python",
   "pygments_lexer": "ipython3",
   "version": "3.9.5"
  }
 },
 "nbformat": 4,
 "nbformat_minor": 1
}
