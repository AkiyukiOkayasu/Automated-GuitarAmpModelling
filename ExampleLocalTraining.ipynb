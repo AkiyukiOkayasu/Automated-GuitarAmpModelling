{
 "cells": [
  {
   "cell_type": "code",
   "execution_count": 7,
   "id": "e2d65db9",
   "metadata": {},
   "outputs": [
    {
     "name": "stdout",
     "output_type": "stream",
     "text": [
      "/home/micahtseng/Personal/mlamsk/python3Env/pytorchSandbox/Automated-GuitarAmpModelling/prep_wav.py:85: WavFileWarning: Chunk (non-data) not understood, skipping it.\r\n",
      "  in_rate, in_data = wavfile.read(args.in_file)\r\n",
      "/home/micahtseng/Personal/mlamsk/python3Env/pytorchSandbox/Automated-GuitarAmpModelling/prep_wav.py:86: WavFileWarning: Chunk (non-data) not understood, skipping it.\r\n",
      "  out_rate, out_data = wavfile.read(args.out_file)\r\n",
      "/home/micahtseng/Personal/mlamsk/python3Env/pytorchSandbox/Automated-GuitarAmpModelling/prep_wav.py:87: WavFileWarning: Chunk (non-data) not understood, skipping it.\r\n",
      "  test_in_rate, test_in_data = wavfile.read(args.test_in_file)\r\n",
      "/home/micahtseng/Personal/mlamsk/python3Env/pytorchSandbox/Automated-GuitarAmpModelling/prep_wav.py:88: WavFileWarning: Chunk (non-data) not understood, skipping it.\r\n",
      "  test_out_rate, test_out_data = wavfile.read(args.test_out_file)\r\n"
     ]
    }
   ],
   "source": [
    "!python prep_wav.py \\\n",
    "\"./Recordings/20211003_LPB-1_5_min_Pink_Ramp_Clean.wav\" \\\n",
    "\"./Recordings/20211003_LPB-1_5_min_Pink_Ramp_Dirty.wav\" \\\n",
    "\"./Recordings/20211003_LPB-1_Natalie_Guitar_Clean.wav\" \\\n",
    "\"./Recordings/20211003_LPB-1_Natalie_Guitar_Dirty.wav\" \\\n",
    "\"LPB1_50\""
   ]
  },
  {
   "cell_type": "code",
   "execution_count": 4,
   "id": "962d6525",
   "metadata": {},
   "outputs": [
    {
     "name": "stdout",
     "output_type": "stream",
     "text": [
      "usage: prep_wav.py [-h] [--normalize NORMALIZE] [--mod_split MOD_SPLIT]\r\n",
      "                   [--random_split RANDOM_SPLIT] [--path PATH]\r\n",
      "                   in_file out_file target_in_file target_out_file name\r\n",
      "prep_wav.py: error: the following arguments are required: in_file, out_file, target_in_file, target_out_file, name\r\n"
     ]
    }
   ],
   "source": [
    "!python \n"
   ]
  }
 ],
 "metadata": {
  "kernelspec": {
   "display_name": "Python 3 (ipykernel)",
   "language": "python",
   "name": "python3"
  },
  "language_info": {
   "codemirror_mode": {
    "name": "ipython",
    "version": 3
   },
   "file_extension": ".py",
   "mimetype": "text/x-python",
   "name": "python",
   "nbconvert_exporter": "python",
   "pygments_lexer": "ipython3",
   "version": "3.9.5"
  }
 },
 "nbformat": 4,
 "nbformat_minor": 5
}
